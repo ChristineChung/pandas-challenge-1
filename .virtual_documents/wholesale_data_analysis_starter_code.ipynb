


import pandas as pd
import numpy as np

file = "../Resources/client_dataset.csv"

client_df = pd.read_csv('Resources/client_dataset.csv')

client_df.head()


# View the column names in the data
client_df[["first", "last"]].head()



# Use the describe function to gather some basic statistics
client_df.describe()



# Use this space to do any additional research
# and familiarize yourself with the data.
client_df.isnull().sum()



# What three item categories had the most entries?

# Get counts of each category
category_counts = client_df['category'].value_counts() 
print(category_counts)

# Get the top 3 most frequent categories
top_3_categories = category_counts.nlargest(3)  
top_3_category_names = top_3_categories.index
print(top_3_categories)



# For the category with the most entries,
# which subcategory had the most entries?

top_category = client_df['category'].value_counts().nlargest(1)

top_subcategory = client_df['subcategory'].value_counts().nlargest(1)

# # Filter for 'consumables' category
consumables_df = client_df[client_df['category'] == 'consumables'] 

# # Get counts of each subcategory
subcategory_counts = consumables_df['subcategory'].value_counts() 

# #print subcateogry count to check
print(subcategory_counts)

# # Get the subcategory with the maximum count

top_subcategory = subcategory_counts.idxmax() 

# #print top subcategory with most entires
print(f"The subcategory with the most entries for 'consumables' is: {top_subcategory}")


# Get the counts of each client_id
client_counts = client_df['client_id'].value_counts()

# Get the top 5 client_ids with the most entries
top_5_client_ids = list(client_counts.head().index.values)


# Merge the top client_ids with the original DataFrame to get the names
top_5_clients_with_names = client_df.loc[client_df['client_id'].isin(top_5_client_ids), ['first', 'last','client_id', 'email']]

# Print the top 5 client names and their counts
for client_id, column in top_5_clients_with_names.groupby('client_id'):
    client_name = column[['first','last']].iloc[0]  
    count = client_counts[client_id]
    print(f"{client_name}: {count} entries")





# Store the client ids of those top 5 clients in a list.
top_5_client_ids = [66037, 24741, 37715, 49687, 43607]



# How many total units (the qty column) did the
# client with the most entries order order?
# Get the counts of each client_id
client_order_counts = client_df['client_id'].value_counts()

# Get the client_id with the maximum count
client_with_max_entries = client_order_counts.idxmax()

#Filter the DataFrame to only include rows for the client with the most entries:

client_max_entries_df = client_df[client_df['client_id'] == client_with_max_entries]

#Sum the qty column for the filtered DataFrame:
total_units_ordered = client_max_entries_df['qty'].sum()

print(f"The client with the most entries (client ID: {client_with_max_entries}) ordered a total of {total_units_ordered} units.")



## Part 2: Transform the Data
#Do we know that this client spent the more money than client 66037? If not, how would we find out? Transform the data using the steps below to prepare it for analysis.


### Create a column that calculates the 
# subtotal for each line using the unit_price
# and the qty

client_df.loc[:, 'subtotal'] = client_df['unit_price'] * client_df['qty']

# Group the DataFrame by client_id and sum the subtotal column
client_totals = client_df.groupby('client_id')['subtotal'].sum()
print(client_df.head())



# Create a column for shipping price.
# Assume a shipping price of $7 per pound
# for orders over 50 pounds and $10 per
# pound for items 50 pounds or under.

# Calculate the total weight for each row
client_df['total_weight'] = client_df['unit_weight'] * client_df['qty']

# Create a new column for shipping price
client_df.loc[:, 'shipping_price'] = np.where(client_df['total_weight'] > 50,
                                              client_df['total_weight'] * 7,
                                              client_df['total_weight'] * 10)

#verify
print(client_df.head())


# Create a column for the total price
# using the subtotal and the shipping price
# along with a sales tax of 9.25%

client_df['total_price'] = (client_df['subtotal'] + client_df['shipping_price']) * 1.0925

print(client_df.head())


# Create a column for the cost
# of each line using unit cost, qty, and
# shipping price (assume the shipping cost
# is exactly what is charged to the client).

client_df['line_cost'] = (client_df['unit_cost'] * client_df['qty']) + client_df['shipping_price']

print(client_df.head())


# Create a column for the profit of
# each line using line cost and line price

client_df['line_profit'] = client_df['subtotal'] - client_df['line_cost']

print(client_df.head())





# Check your work using the totals above
# Group the DataFrame by order_id and sum the total_price column
order_totals = client_df.groupby('order_id')['total_price'].sum()

# Check the calculated totals against the provided receipt totals

order_id_2742071 = order_totals.get(2742071, 0)
if order_id_2742071 == 152811.89:
    print(f"Calculated total for Order ID 2742071 ($152,811.89) matches the receipt.")
else:
    print(f"Calculated total for Order ID 2742071 (${order_id_2742071:.2f}) does not match the receipt (${152811.89:.2f}).")

order_id_2173913 = order_totals.get(2173913, 0)
if order_id_2173913 == 162388.71:
    print(f"Calculated total for Order ID 2173913 ($162,388.71) matches the receipt.")
else:
    print(f"Calculated total for Order ID 2173913 (${order_id_2173913:.2f}) does not match the receipt (${162388.71:.2f}).")

order_id_6128929 = order_totals.get(6128929, 0)
if order_id_6128929 == 923441.25:
    print(f"Calculated total for Order ID 6128929 ($923,441.25) matches the receipt.")
else:
    print(f"Calculated total for Order ID 6128929 (${order_id_6128929:.2f}) does not match the receipt (${923441.25:.2f}).")




## Part 4: Summarize and Analyze
#Use the new columns with confirmed values to find the following information.


# How much did each of the top 5 clients by quantity
# spend? Check your work from Part 1 for client ids.
# Filter the DataFrame to include only the top 5 clients
top_5_clients_df = client_df[client_df['client_id'].isin(top_5_client_ids)]

# Group the filtered DataFrame by client_id and sum the total_price column
top_5_clients_spending = top_5_clients_df.groupby('client_id')['total_price'].sum()

# Sort the resulting Series in descending order
top_5_clients_spending = top_5_clients_spending.sort_values(ascending=False)

# Print the results
print("Top 5 clients by quantity and their total spending:")
for client_id, total_spent in top_5_clients_spending.items():
    print(f"Client ID: {client_id}, Total Spent: ${total_spent:.2f}")



# Create a summary DataFrame showing the totals for the
# for the top 5 clients with the following information:
# total units purchased, total shipping price,
# total revenue, and total profit. Sort by total profit.

# Create a summary DataFrame with the requested information
summary_df = top_5_clients_df.groupby('client_id')[['qty', 'shipping_price', 'subtotal', 'line_profit']].sum().reset_index()

# Rename the columns for clarity
summary_df.columns = ['client_id', 'total_units_purchased', 'total_shipping_price', 'total_revenue', 'total_profit']

# Sort the summary DataFrame by total_profit in descending order
summary_df = summary_df.sort_values('total_profit', ascending=False)

# Print the summary DataFrame
print(summary_df)


# Format the data and rename the columns
# to names suitable for presentation.
# Currency should be in millions of dollars.

# Create a summary DataFrame 
summary_df = top_5_clients_df.groupby('client_id')[['qty', 'shipping_price', 'subtotal', 'line_profit']].sum().reset_index()

# Rename the columns for presentation
summary_df.columns = ['Client ID', 'Units Purchased', 'Shipping Cost ($M)', 'Revenue ($M)', 'Profit ($M)']

# Format the currency columns to millions of dollars
summary_df['Shipping Cost ($M)'] = summary_df['Shipping Cost ($M)'] / 1000000
summary_df['Revenue ($M)'] = summary_df['Revenue ($M)'] / 1000000
summary_df['Profit ($M)'] = summary_df['Profit ($M)'] / 1000000




# Sort the summary DataFrame by Profit ($M) in descending order
summary_df = summary_df.sort_values('Profit ($M)', ascending=False)

# Format the currency columns to display two decimal places
summary_df = summary_df.round({'Shipping Cost ($M)': 2, 'Revenue ($M)': 2, 'Profit ($M)': 2})

# Print the formatted summary DataFrame
print(summary_df)




